{
  "nbformat": 4,
  "nbformat_minor": 0,
  "metadata": {
    "colab": {
      "provenance": []
    },
    "kernelspec": {
      "name": "python3",
      "display_name": "Python 3"
    },
    "language_info": {
      "name": "python"
    }
  },
  "cells": [
    {
      "cell_type": "code",
      "execution_count": null,
      "metadata": {
        "colab": {
          "base_uri": "https://localhost:8080/"
        },
        "id": "3s0_PSu5lrGX",
        "outputId": "ed4a2c97-3db6-4fc7-e7ba-c886b9c92e17"
      },
      "outputs": [
        {
          "output_type": "stream",
          "name": "stdout",
          "text": [
            "Mounted at /content/drive\n"
          ]
        }
      ],
      "source": [
        "from google.colab import drive\n",
        "drive.mount('/content/drive')"
      ]
    },
    {
      "cell_type": "code",
      "source": [
        "!mkdir -p /content/drive/MyDrive/dep_collocation_tutorial"
      ],
      "metadata": {
        "id": "XV2uw_cbj-bg"
      },
      "execution_count": null,
      "outputs": []
    },
    {
      "cell_type": "code",
      "source": [
        "%%writefile /content/drive/MyDrive/dep_collocation_tutorial/mylib.py\n",
        "\n",
        "EXCLUDE_OBJ_WORD = {\"my\", \"your\", \"her\", \"its\", \"our\", \"their\", \"a\", \"an\", \"the\"}\n",
        "SUBJECT_DEPS = {\"nsubj\", \"nsubjpass\", \"expl\"}\n",
        "EXCLUDE_ADVERBS = {\n",
        "    \"however\", \"therefore\", \"thus\", \"furthermore\", \"moreover\", \"nevertheless\",\n",
        "    \"nonetheless\", \"instead\", \"consequently\", \"accordingly\", \"meanwhile\",\n",
        "    \"besides\", \"otherwise\", \"hence\", \"so\", \"how\", \"why\", \"when\"\n",
        "}\n",
        "\n",
        "def has_subject_between(left_tok, verb_tok, sent):\n",
        "    i1, i2 = left_tok.i, verb_tok.i\n",
        "    for t in sent:\n",
        "        if i1 < t.i < i2 and t.dep_ in SUBJECT_DEPS and t.head == verb_tok:\n",
        "            return True\n",
        "    return False\n",
        "\n",
        "def is_followed_by_comma(tok):\n",
        "    if tok.i + 1 >= len(tok.doc):\n",
        "        return False\n",
        "    next_token = tok.doc[tok.i + 1]\n",
        "    return next_token.is_punct and next_token.text == \",\"\n",
        "\n",
        "def is_how_plus_adv(tok):\n",
        "    if tok.pos_ != \"ADV\":\n",
        "        return False\n",
        "    if tok.i - 1 >= 0:\n",
        "        prev_token = tok.doc[tok.i - 1]\n",
        "        return prev_token.text.lower() == \"how\"\n",
        "    return False\n",
        "\n",
        "def is_hyphenated_token(tok):\n",
        "    \"\"\"\n",
        "    トークン tok がハイフン結合語なら True を返す。\n",
        "    - \"part\" \"-\" \"time\" → \"part\" と \"time\" が True\n",
        "    \"\"\"\n",
        "    HYPHENS = {\"-\", \"‐\", \"‒\", \"–\", \"−\"}  # hyphen, en dash, minus など\n",
        "    text = tok.text\n",
        "    # トークン自身がハイフン記号なら True\n",
        "    if text in HYPHENS:\n",
        "        return True\n",
        "    # 直前または直後がハイフン記号トークンの場合\n",
        "    doc = tok.doc\n",
        "    i = tok.i\n",
        "    if i - 1 >= 0 and doc[i - 1].text in HYPHENS:\n",
        "        return True\n",
        "    if i + 1 < len(doc) and doc[i + 1].text in HYPHENS:\n",
        "        return True\n",
        "    return False\n",
        "\n",
        "def is_excluded_ing(token) -> bool:\n",
        "    \"\"\"\n",
        "    token が -ing 語で、例外リストに含まれず、\n",
        "    直前のトークンが VERB の場合に True。\n",
        "    \"\"\"\n",
        "    EXCEPT_ING = {\"thing\", \"something\", \"anything\", \"nothing\"}\n",
        "    word = token.lower_\n",
        "\n",
        "    if word.endswith(\"ing\") and word not in EXCEPT_ING:\n",
        "        doc = token.doc\n",
        "        if token.i > 0 and doc[token.i - 1].pos_ == \"VERB\":\n",
        "            return True\n",
        "    return False\n",
        "\n",
        "# 判定ヘルパー\n",
        "def is_adj_noun(token):\n",
        "    return (\n",
        "        token.dep_ in (\"amod\", \"compound\")\n",
        "        and token.head.pos_ == \"NOUN\"\n",
        "        and token.i < token.head.i\n",
        "        and not is_hyphenated_token(token)\n",
        "        and not is_hyphenated_token(token.head)\n",
        "    )\n",
        "\n",
        "def is_verb_obj(token):\n",
        "    return (\n",
        "        token.dep_ in {\"dobj\"}\n",
        "        and token.text.lower() not in EXCLUDE_OBJ_WORD\n",
        "        and not is_excluded_ing(token)\n",
        "        and token.head.pos_ == \"VERB\"\n",
        "        and token.head.lemma_ != \"be\"\n",
        "        and token.head.i < token.i\n",
        "        and not is_hyphenated_token(token)\n",
        "        and not is_hyphenated_token(token.head)\n",
        "    )\n",
        "\n",
        "def is_verb_adv(token):\n",
        "    return (\n",
        "        token.dep_ in (\"advmod\", \"npadvmod\", \"prt\")\n",
        "        and token.head.pos_ == \"VERB\"\n",
        "        and token.head.lemma_ != \"be\"\n",
        "        and token.head.i < token.i\n",
        "        and not is_hyphenated_token(token)\n",
        "        and not is_hyphenated_token(token.head)\n",
        "    )\n",
        "\n",
        "def is_adv_verb(token, sent):\n",
        "    return (\n",
        "        token.dep_ in (\"advmod\", \"npadvmod\")\n",
        "        and token.head.pos_ == \"VERB\"\n",
        "        and token.head.lemma_ != \"be\"\n",
        "        and token.i < token.head.i\n",
        "        and token.text.lower() not in EXCLUDE_ADVERBS\n",
        "        and not is_followed_by_comma(token)\n",
        "        and not has_subject_between(token, token.head, sent)\n",
        "        and not is_how_plus_adv(token)\n",
        "        and not is_hyphenated_token(token)\n",
        "        and not is_hyphenated_token(token.head)\n",
        "    )\n",
        "\n",
        "def is_adv_adj(token):\n",
        "    return (\n",
        "        token.dep_ in (\"advmod\", \"npadvmod\")\n",
        "        and token.head.pos_ == \"ADJ\"\n",
        "        and token.i < token.head.i\n",
        "        and not is_hyphenated_token(token)\n",
        "        and not is_hyphenated_token(token.head)\n",
        "    )\n"
      ],
      "metadata": {
        "colab": {
          "base_uri": "https://localhost:8080/"
        },
        "id": "MHPLoPdDl7HU",
        "outputId": "75f410af-ea23-4953-c3e6-ea5b9912e052"
      },
      "execution_count": null,
      "outputs": [
        {
          "output_type": "stream",
          "name": "stdout",
          "text": [
            "Overwriting /content/drive/MyDrive/dep_collocation_tutorial/mylib.py\n"
          ]
        }
      ]
    }
  ]
}